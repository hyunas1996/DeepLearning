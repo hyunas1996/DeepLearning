{
  "nbformat": 4,
  "nbformat_minor": 0,
  "metadata": {
    "colab": {
      "name": "Denoiser1.ipynb",
      "provenance": [],
      "private_outputs": true,
      "authorship_tag": "ABX9TyMVkiLWT0TkcNFeYJ2fwYYH",
      "include_colab_link": true
    },
    "kernelspec": {
      "name": "python3",
      "display_name": "Python 3"
    },
    "accelerator": "GPU"
  },
  "cells": [
    {
      "cell_type": "markdown",
      "metadata": {
        "id": "view-in-github",
        "colab_type": "text"
      },
      "source": [
        "<a href=\"https://colab.research.google.com/github/hyunas1996/DeepLearning/blob/master/Denoiser1.ipynb\" target=\"_parent\"><img src=\"https://colab.research.google.com/assets/colab-badge.svg\" alt=\"Open In Colab\"/></a>"
      ]
    },
    {
      "cell_type": "code",
      "metadata": {
        "id": "cBSJprEHqIR_",
        "colab_type": "code",
        "colab": {}
      },
      "source": [
        "import tensorflow as tf\n",
        "from tensorflow import keras\n",
        "import numpy as np\n",
        "import os\n",
        "from tensorflow.keras.preprocessing.image import load_img, img_to_array, array_to_img\n",
        "\n",
        "#datasets\n",
        "(x_train, _),(x_test, _) = tf.keras.datasets.cifar10.load_data()\n",
        "\n",
        "#training data & test data pre_processing\n",
        "x_train, x_test = x_train/255.0, x_test/255.0\n",
        "y_train, y_test = x_train, x_test"
      ],
      "execution_count": 0,
      "outputs": []
    },
    {
      "cell_type": "code",
      "metadata": {
        "id": "z5n0-PF6qKS1",
        "colab_type": "code",
        "colab": {}
      },
      "source": [
        "def create_model1():\n",
        "    #cnn_model 1 (normal)\n",
        "    input_shape = keras.Input(shape=(32, 32, 3))\n",
        "    gaussian = keras.layers.GaussianNoise(0.1)(input_shape)\n",
        "\n",
        "    x1 = keras.layers.Conv2D(filters = 64, kernel_size = 3, padding = 'same', activation='relu')(gaussian)\n",
        "    x1 = keras.layers.Conv2D(filters = 64, kernel_size = 3, padding = 'same', activation='relu')(x1)\n",
        "    x1 = keras.layers.Conv2D(filters = 64, kernel_size = 3, padding = 'same', activation='relu')(x1)\n",
        "    x1 = keras.layers.Conv2D(filters = 64, kernel_size = 3, padding = 'same', activation='relu')(x1)\n",
        "    x1 = keras.layers.Conv2D(filters = 3, kernel_size = 3, padding = 'same')(x1)\n",
        "\n",
        "    layers = x1\n",
        "\n",
        "    cnn_model_1 = keras.Model(input_shape, layers)\n",
        "\n",
        "    cnn_model_1.compile(optimizer = keras.optimizers.Adam(),\n",
        "                loss = keras.losses.mean_squared_error,\n",
        "                metrics = ['accuracy'])\n",
        "\n",
        "    #check point save during training\n",
        "\n",
        "    checkpoint_path = \"model1/cp.ckpt\"\n",
        "    checkpoint_dir = os.path.dirname(checkpoint_path)\n",
        "\n",
        "    cp_callback = keras.callbacks.ModelCheckpoint(checkpoint_path, save_weights_only = True, verbose = 1)\n",
        "\n",
        "    trained_model_1 = cnn_model_1.fit(x_train, y_train, batch_size = 32, epochs = 100, verbose = 1, callbacks = [cp_callback])    \n",
        "\n",
        "    return cnn_model_1"
      ],
      "execution_count": 0,
      "outputs": []
    },
    {
      "cell_type": "code",
      "metadata": {
        "id": "dQhAYOPyqSpq",
        "colab_type": "code",
        "colab": {}
      },
      "source": [
        "def test(model1):\n",
        "\n",
        "    img = load_img('noise.png', target_size = (32, 32))\n",
        "    x_test = img_to_array(img)\n",
        "    x_test = np.expand_dims(x_test, axis = 0)\n",
        "    print(x_test.shape)\n",
        "\n",
        "    res = model1.predict(x_test)\n",
        "\n",
        "    y_hat = np.squeeze(res)\n",
        "    y_hat = array_to_img(y_hat)\n",
        "\n",
        "    y_hat.save('Model1.png')\n"
      ],
      "execution_count": 0,
      "outputs": []
    },
    {
      "cell_type": "code",
      "metadata": {
        "id": "8oa_5jPq9SBu",
        "colab_type": "code",
        "colab": {}
      },
      "source": [
        "trained_model_1 = create_model1()"
      ],
      "execution_count": 0,
      "outputs": []
    },
    {
      "cell_type": "code",
      "metadata": {
        "id": "dxmENC2hsaLy",
        "colab_type": "code",
        "colab": {}
      },
      "source": [
        "test(trained_model_1)"
      ],
      "execution_count": 0,
      "outputs": []
    }
  ]
}