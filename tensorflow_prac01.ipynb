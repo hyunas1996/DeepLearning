{
  "nbformat": 4,
  "nbformat_minor": 0,
  "metadata": {
    "colab": {
      "name": "tensorflow_prac01",
      "provenance": [],
      "private_outputs": true,
      "collapsed_sections": [],
      "authorship_tag": "ABX9TyNRtOMLzuXNoqHgFqBFPIKr",
      "include_colab_link": true
    },
    "kernelspec": {
      "name": "python3",
      "display_name": "Python 3"
    }
  },
  "cells": [
    {
      "cell_type": "markdown",
      "metadata": {
        "id": "view-in-github",
        "colab_type": "text"
      },
      "source": [
        "<a href=\"https://colab.research.google.com/github/hyunas1996/DeepLearning/blob/master/tensorflow_prac01.ipynb\" target=\"_parent\"><img src=\"https://colab.research.google.com/assets/colab-badge.svg\" alt=\"Open In Colab\"/></a>"
      ]
    },
    {
      "cell_type": "code",
      "metadata": {
        "id": "-234pLdy4FwR",
        "colab_type": "code",
        "colab": {}
      },
      "source": [
        "from __future__ import absolute_import, division, print_function, unicode_literals\n",
        "\n",
        "!pip install -q tensorflow-gpu==2.0.0-rc1\n",
        "import tensorflow as tf"
      ],
      "execution_count": 0,
      "outputs": []
    },
    {
      "cell_type": "code",
      "metadata": {
        "id": "Gh1th1wx53Bc",
        "colab_type": "code",
        "colab": {}
      },
      "source": [
        "from google.colab import drive\n",
        "drive.mount('/gdrive', force_remount=True)"
      ],
      "execution_count": 0,
      "outputs": []
    },
    {
      "cell_type": "code",
      "metadata": {
        "id": "M4eidu9O7HTS",
        "colab_type": "code",
        "colab": {}
      },
      "source": [
        "#example 1\n",
        "import tensorflow as tf\n",
        "\n",
        "#난수 생성하기 \n",
        "#random.uniform의 인자\n",
        "#1) shpae : 난수의 차원을 의미\n",
        "#2) minimum : 최솟값\n",
        "#3) maximum : 최댓값\n",
        "\n",
        "rand = tf.random.uniform([1], 0, 1)\n",
        "print(rand)"
      ],
      "execution_count": 0,
      "outputs": []
    },
    {
      "cell_type": "code",
      "metadata": {
        "id": "i3TTbsuY9yAf",
        "colab_type": "code",
        "colab": {}
      },
      "source": [
        "#example 2\n",
        "\n",
        "#난수 생성하기 2\n",
        "\n",
        "rand2 = tf.random.normal([1], 0, 1)\n",
        "print(rand2)"
      ],
      "execution_count": 0,
      "outputs": []
    },
    {
      "cell_type": "code",
      "metadata": {
        "id": "uRE2dpPu_P2p",
        "colab_type": "code",
        "colab": {}
      },
      "source": [
        "#example 3\n",
        "\n",
        "#activation function\n",
        "#sigmoid function 구현하기\n",
        "\n",
        "import math\n",
        "def sigmoid(x):\n",
        "    return 1/(1+math.exp(-x))"
      ],
      "execution_count": 0,
      "outputs": []
    },
    {
      "cell_type": "code",
      "metadata": {
        "id": "RRaIfk3IAtAG",
        "colab_type": "code",
        "colab": {}
      },
      "source": [
        "#example 4\n",
        "\n",
        "#activation function\n",
        "#ReLu function 구현하기\n",
        "\n",
        "import numpy as np\n",
        "def ReLu(x):\n",
        "    return np.maximum(0, x)"
      ],
      "execution_count": 0,
      "outputs": []
    },
    {
      "cell_type": "code",
      "metadata": {
        "id": "q6whKMLvBL-1",
        "colab_type": "code",
        "colab": {}
      },
      "source": [
        "#example 5\n",
        "\n",
        "#generating neuron\n",
        "#using Sigmoid function\n",
        "\n",
        "x = 1\n",
        "y = 0\n",
        "\n",
        "#가중치 초기화 : normal distribution 사용\n",
        "w = tf.random.normal([1], 0, 1)\n",
        "\n",
        "output = sigmoid(x * w)\n",
        "\n",
        "print(output)"
      ],
      "execution_count": 0,
      "outputs": []
    },
    {
      "cell_type": "code",
      "metadata": {
        "id": "4RUuxN6ECOup",
        "colab_type": "code",
        "colab": {}
      },
      "source": [
        "#example 6\n",
        "\n",
        "#generating neuron\n",
        "#using ReLu function\n",
        "\n",
        "x = 1\n",
        "y = 0\n",
        "\n",
        "#가중치 초기화 : normal distribution 사용\n",
        "w = tf.random.normal([1], 0, 1)\n",
        "\n",
        "output = ReLu(x * w)\n",
        "\n",
        "print(output)"
      ],
      "execution_count": 0,
      "outputs": []
    },
    {
      "cell_type": "code",
      "metadata": {
        "id": "3FiU20CGERBR",
        "colab_type": "code",
        "colab": {}
      },
      "source": [
        "#example 7\n",
        "\n",
        "#training neuron\n",
        "#using sigmoid function\n",
        "\n",
        "x = 1\n",
        "y = 0\n",
        "w = tf.random.normal([1], 0, 1)\n",
        "\n",
        "#initialize learning rate\n",
        "a = 0.1\n",
        "\n",
        "for i in range(1000):\n",
        "    output = sigmoid(x * w)\n",
        "    error = (y - output)\n",
        "    abs_error = abs(y - output)\n",
        "\n",
        "    w = w + x * a * error\n",
        "\n",
        "    if i % 100 == 99:\n",
        "        print(i, abs_error, output)"
      ],
      "execution_count": 0,
      "outputs": []
    },
    {
      "cell_type": "code",
      "metadata": {
        "id": "xHtP8_CpGdog",
        "colab_type": "code",
        "colab": {}
      },
      "source": [
        "#example 8\n",
        "\n",
        "#training neuron\n",
        "#using ReLu function\n",
        "\n",
        "x = 1\n",
        "y = 0\n",
        "w = tf.random.normal([1], 0, 1)\n",
        "\n",
        "#initialize learning rate\n",
        "a = 0.1\n",
        "\n",
        "for i in range(1000):\n",
        "    output = ReLu(x * w)\n",
        "    error = (y - output)\n",
        "    abs_error = abs(y - output)\n",
        "\n",
        "    w = w + x * a * error\n",
        "\n",
        "    if i % 100 == 99:\n",
        "        print(i, abs_error, output)"
      ],
      "execution_count": 0,
      "outputs": []
    },
    {
      "cell_type": "code",
      "metadata": {
        "id": "C3Dk6rHtHeHn",
        "colab_type": "code",
        "colab": {}
      },
      "source": [
        "#example \n",
        "\n",
        "#training neuron \n",
        "#using ReLu function \n",
        "#and using BIAS\n",
        "\n",
        "x = 0\n",
        "y = 1\n",
        "w = tf.random.normal([1], 0, 1)\n",
        "\n",
        "#initialize bias\n",
        "b = tf.random.normal([1], 0, 1)\n",
        "\n",
        "\n",
        "a = 0.1\n",
        "\n",
        "for i in range(1000):\n",
        "\n",
        "    #adding bias\n",
        "    output = ReLu(x * w + b)\n",
        "    error = (y - output)\n",
        "    abs_error = abs(y - output)\n",
        "\n",
        "    w = w + x * a * error\n",
        "\n",
        "    #update bias\n",
        "    b = b + a * error\n",
        "\n",
        "    if i % 100 == 99:\n",
        "        print(i, abs_error, output)"
      ],
      "execution_count": 0,
      "outputs": []
    }
  ]
}