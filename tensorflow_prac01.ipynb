{
  "nbformat": 4,
  "nbformat_minor": 0,
  "metadata": {
    "colab": {
      "name": "tensorflow_prac01",
      "provenance": [],
      "private_outputs": true,
      "collapsed_sections": [],
      "authorship_tag": "ABX9TyPj2p23LnD/9Q3IjMXdK/Q3",
      "include_colab_link": true
    },
    "kernelspec": {
      "name": "python3",
      "display_name": "Python 3"
    }
  },
  "cells": [
    {
      "cell_type": "markdown",
      "metadata": {
        "id": "view-in-github",
        "colab_type": "text"
      },
      "source": [
        "<a href=\"https://colab.research.google.com/github/hyunas1996/DeepLearning/blob/master/tensorflow_prac01.ipynb\" target=\"_parent\"><img src=\"https://colab.research.google.com/assets/colab-badge.svg\" alt=\"Open In Colab\"/></a>"
      ]
    },
    {
      "cell_type": "code",
      "metadata": {
        "id": "-234pLdy4FwR",
        "colab_type": "code",
        "colab": {}
      },
      "source": [
        "from __future__ import absolute_import, division, print_function, unicode_literals\n",
        "\n",
        "!pip install -q tensorflow-gpu==2.0.0-rc1\n",
        "import tensorflow as tf"
      ],
      "execution_count": 0,
      "outputs": []
    },
    {
      "cell_type": "code",
      "metadata": {
        "id": "Gh1th1wx53Bc",
        "colab_type": "code",
        "colab": {}
      },
      "source": [
        "from google.colab import drive\n",
        "drive.mount('/gdrive', force_remount=True)"
      ],
      "execution_count": 0,
      "outputs": []
    },
    {
      "cell_type": "code",
      "metadata": {
        "id": "M4eidu9O7HTS",
        "colab_type": "code",
        "colab": {}
      },
      "source": [
        "#example 1\n",
        "import tensorflow as tf\n",
        "\n",
        "#난수 생성하기 \n",
        "#random.uniform의 인자\n",
        "#1) shpae : 난수의 차원을 의미\n",
        "#2) minimum : 최솟값\n",
        "#3) maximum : 최댓값\n",
        "\n",
        "rand = tf.random.uniform([1], 0, 1)\n",
        "print(rand)"
      ],
      "execution_count": 0,
      "outputs": []
    },
    {
      "cell_type": "code",
      "metadata": {
        "id": "i3TTbsuY9yAf",
        "colab_type": "code",
        "colab": {}
      },
      "source": [
        "#example 2\n",
        "\n",
        "#난수 생성하기 2\n",
        "\n",
        "rand2 = tf.random.normal([1], 0, 1)\n",
        "print(rand2)"
      ],
      "execution_count": 0,
      "outputs": []
    },
    {
      "cell_type": "code",
      "metadata": {
        "id": "uRE2dpPu_P2p",
        "colab_type": "code",
        "colab": {}
      },
      "source": [
        "#example 3\n",
        "\n",
        "#activation function\n",
        "#sigmoid function 구현하기\n",
        "\n",
        "import math\n",
        "def sigmoid(x):\n",
        "    return 1/(1+math.exp(-x))"
      ],
      "execution_count": 0,
      "outputs": []
    },
    {
      "cell_type": "code",
      "metadata": {
        "id": "RRaIfk3IAtAG",
        "colab_type": "code",
        "colab": {}
      },
      "source": [
        "#example 4\n",
        "\n",
        "#activation function\n",
        "#ReLu function 구현하기\n",
        "\n",
        "import numpy as np\n",
        "def ReLu(x):\n",
        "    return np.maximum(0, x)"
      ],
      "execution_count": 0,
      "outputs": []
    }
  ]
}