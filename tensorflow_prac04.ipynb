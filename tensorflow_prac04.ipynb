{
  "nbformat": 4,
  "nbformat_minor": 0,
  "metadata": {
    "colab": {
      "name": "tensorflow_prac04.ipynb",
      "provenance": [],
      "private_outputs": true,
      "authorship_tag": "ABX9TyPutl813PZ83rI0QjlFRqvK",
      "include_colab_link": true
    },
    "kernelspec": {
      "name": "python3",
      "display_name": "Python 3"
    }
  },
  "cells": [
    {
      "cell_type": "markdown",
      "metadata": {
        "id": "view-in-github",
        "colab_type": "text"
      },
      "source": [
        "<a href=\"https://colab.research.google.com/github/hyunas1996/DeepLearning/blob/master/tensorflow_prac04.ipynb\" target=\"_parent\"><img src=\"https://colab.research.google.com/assets/colab-badge.svg\" alt=\"Open In Colab\"/></a>"
      ]
    },
    {
      "cell_type": "code",
      "metadata": {
        "id": "dlI0vsqYZ4wp",
        "colab_type": "code",
        "colab": {}
      },
      "source": [
        "#keras sequential Model 연습 02\n",
        "#multi layer\n",
        "\n",
        "import tensorflow as tf\n",
        "import numpy as np\n",
        "import keras\n",
        "\n",
        "#generating training set & test set\n",
        "\n",
        "#training set\n",
        "\n",
        "x_train = np.array([[0], [1]])\n",
        "y_train = x_train * 2 + 1\n",
        "\n",
        "#test set\n",
        "\n",
        "x_test = np.array([[2], [3]])\n",
        "y_test = x_test * 2 + 1\n"
      ],
      "execution_count": 0,
      "outputs": []
    },
    {
      "cell_type": "code",
      "metadata": {
        "id": "l_bKfUw2aFxv",
        "colab_type": "code",
        "colab": {}
      },
      "source": [
        "#generating sequential model!!!\n",
        "\n",
        "model = keras.models.Sequential()"
      ],
      "execution_count": 0,
      "outputs": []
    },
    {
      "cell_type": "code",
      "metadata": {
        "id": "_NqjE50na83I",
        "colab_type": "code",
        "colab": {}
      },
      "source": [
        "#first layer : two nodes\n",
        "model.add(keras.layers.Dense(2, input_shape=(1, )))\n",
        "\n",
        "#output (=second) layer : one node\n",
        "#두번째 layer부터는 input data 개수를 알려줄 필요 없다.\n",
        "#seauential model을 사용하면 내부에서 알아서 연결한다. \n",
        "model.add(keras.layers.Dense(1))\n",
        "\n",
        "model.summary()"
      ],
      "execution_count": 0,
      "outputs": []
    },
    {
      "cell_type": "code",
      "metadata": {
        "id": "TDulL8aPbWRi",
        "colab_type": "code",
        "colab": {}
      },
      "source": [
        "pre_train_y_predict = model.predict(x_test)\n",
        "print(\"학습하기 전 y_predict\")\n",
        "print(pre_train_y_predict)\n",
        "\n",
        "model.compile('SGD', 'mse')\n",
        "hist = model.fit(x_train, y_train, epochs = 1000, batch_size = 2, verbose = 0)\n",
        "\n",
        "y_predict = model.predict(x_test)\n",
        "print(\"학습 이후 y_predict\")\n",
        "print(y_predict)"
      ],
      "execution_count": 0,
      "outputs": []
    }
  ]
}