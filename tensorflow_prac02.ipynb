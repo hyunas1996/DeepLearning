{
  "nbformat": 4,
  "nbformat_minor": 0,
  "metadata": {
    "colab": {
      "name": "tensorflow_prac02.ipynb",
      "provenance": [],
      "private_outputs": true,
      "authorship_tag": "ABX9TyNxh01ADSnwLwV7xJMgv2Rb",
      "include_colab_link": true
    },
    "kernelspec": {
      "name": "python3",
      "display_name": "Python 3"
    }
  },
  "cells": [
    {
      "cell_type": "markdown",
      "metadata": {
        "id": "view-in-github",
        "colab_type": "text"
      },
      "source": [
        "<a href=\"https://colab.research.google.com/github/hyunas1996/DeepLearning/blob/master/tensorflow_prac02.ipynb\" target=\"_parent\"><img src=\"https://colab.research.google.com/assets/colab-badge.svg\" alt=\"Open In Colab\"/></a>"
      ]
    },
    {
      "cell_type": "code",
      "metadata": {
        "id": "qD5jcTeUKWow",
        "colab_type": "code",
        "colab": {}
      },
      "source": [
        "from google.colab import drive\n",
        "drive.mount('/gdrive', force_remount=True)"
      ],
      "execution_count": 0,
      "outputs": []
    },
    {
      "cell_type": "code",
      "metadata": {
        "id": "i8-p88IhKizW",
        "colab_type": "code",
        "colab": {}
      },
      "source": [
        "import tensorflow as tf\n",
        "import numpy as np\n",
        "import math\n",
        "import random\n",
        "\n",
        "#generating 1000 train samples and 100 test samples\n",
        "m = 1000\n",
        "n = 100\n",
        "\n",
        "#training set\n",
        "x_train = tf.random.uniform([m, 2], minval = -2, maxval = 2, dtype = tf.dtypes.int32)\n",
        "y_train = []\n",
        "\n",
        "for i in range(m):\n",
        "    if x_train[i][0] * x_train[i][0] > x_train[i][1] :\n",
        "        y_train.append(1)\n",
        "    else :\n",
        "        y_train.append(0)\n",
        "\n",
        "x_train = np.array(x_train)\n",
        "y_train = np.array(y_train)\n",
        "\n",
        "#test set\n",
        "x_test = tf.random.uniform([n, 2], minval = -2, maxval = 2, dtype = tf.dtypes.int32)\n",
        "y_test = []\n",
        "\n",
        "for i in range(n):\n",
        "    if x_test[i][0] * x_test[i][0] > x_test[i][1] :\n",
        "        y_test.append(1)\n",
        "    else :\n",
        "        y_test.append(0)\n",
        "\n",
        "x_test = np.array(x_test)\n",
        "y_test = np.array(y_test)\n",
        "\n",
        "\n",
        "\n",
        "\n",
        "\n",
        "#training \n",
        "\n",
        "\n",
        "\n"
      ],
      "execution_count": 0,
      "outputs": []
    }
  ]
}